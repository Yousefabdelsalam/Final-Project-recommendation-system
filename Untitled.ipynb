{
 "cells": [
  {
   "cell_type": "code",
   "execution_count": 5,
   "id": "3c3087c8-a94c-4c0a-93ee-3c9856441a24",
   "metadata": {},
   "outputs": [
    {
     "name": "stdout",
     "output_type": "stream",
     "text": [
      "Overwriting prepare_files\n"
     ]
    }
   ],
   "source": [
    "%%writefile prepare_files\n",
    "import gdown\n",
    "import os\n",
    "\n",
    "files = {\n",
    "    \"model_w2v.model\": \"1zKRiCSlb2V99xo97UXmJSyZ39omVK9D3\",\n",
    "    \"StremlitClustringReco.csv\": \"1t0EMBoSQNhCbb_BHDvWh_yCQGB7MBk3-\",\n",
    "    \"streamlit.csv\": \"1exwAtDvLgHthuHMUROr2OihQtgRC1B3Y\"\n",
    "}\n",
    "\n",
    "for filename, file_id in files.items():\n",
    "    if not os.path.exists(filename):\n",
    "        print(f\"⬇️ Downloading {filename}...\")\n",
    "        url = f\"https://drive.google.com/uc?id={file_id}\"\n",
    "        gdown.download(url, filename, quiet=False)\n",
    "        print(f\"✅ Downloaded {filename}\")\n",
    "    else:\n",
    "        print(f\"✅ {filename} already exists.\")"
   ]
  },
  {
   "cell_type": "code",
   "execution_count": null,
   "id": "ed2ae5ac-4805-4d27-b359-05014c1db03d",
   "metadata": {},
   "outputs": [],
   "source": []
  }
 ],
 "metadata": {
  "kernelspec": {
   "display_name": "Python 3 (ipykernel)",
   "language": "python",
   "name": "python3"
  },
  "language_info": {
   "codemirror_mode": {
    "name": "ipython",
    "version": 3
   },
   "file_extension": ".py",
   "mimetype": "text/x-python",
   "name": "python",
   "nbconvert_exporter": "python",
   "pygments_lexer": "ipython3",
   "version": "3.12.4"
  }
 },
 "nbformat": 4,
 "nbformat_minor": 5
}
